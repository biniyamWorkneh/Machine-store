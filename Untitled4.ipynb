{
  "nbformat": 4,
  "nbformat_minor": 0,
  "metadata": {
    "colab": {
      "provenance": [],
      "mount_file_id": "1q94Zt7JRNCnsGtMDjj0j9l4SNQmbShU8",
      "authorship_tag": "ABX9TyNEoAQL8DwTfQmG3Tr4c66l",
      "include_colab_link": true
    },
    "kernelspec": {
      "name": "python3",
      "display_name": "Python 3"
    },
    "language_info": {
      "name": "python"
    }
  },
  "cells": [
    {
      "cell_type": "markdown",
      "metadata": {
        "id": "view-in-github",
        "colab_type": "text"
      },
      "source": [
        "<a href=\"https://colab.research.google.com/github/biniyamWorkneh/Machine-store/blob/master/Untitled4.ipynb\" target=\"_parent\"><img src=\"https://colab.research.google.com/assets/colab-badge.svg\" alt=\"Open In Colab\"/></a>"
      ]
    },
    {
      "cell_type": "code",
      "source": [
        "# This Python 3 environment comes with many helpful analytics libraries installed\n",
        "# It is defined by the kaggle/python Docker image: https://github.com/kaggle/docker-python\n",
        "# For example, here's several helpful packages to load\n",
        "\n",
        "import numpy as np # linear algebra\n",
        "import pandas as pd # data processing, CSV file I/O (e.g. pd.read_csv)\n",
        "from IPython.display import clear_output\n",
        "# Input data files are available in the read-only \"../input/\" directory\n",
        "# For example, running this (by clicking run or pressing Shift+Enter) will list all files under the input directory\n",
        "\n",
        "import os\n",
        "for dirname, _, filenames in os.walk('/content/drive/MyDrive/ml2'):\n",
        "    for filename in filenames:\n",
        "        print(os.path.join(dirname, filename))\n",
        "\n",
        "clear_output()\n",
        "# You can write up to 20GB to the current directory (/kaggle/working/) that gets preserved as output when you create a version using \"Save & Run All\"\n",
        "# You can also write temporary files to /kaggle/temp/, but they won't be saved outside of the current session"
      ],
      "metadata": {
        "id": "5_EhlmnfgG9h"
      },
      "execution_count": 72,
      "outputs": []
    },
    {
      "cell_type": "code",
      "source": [
        "%cd\n",
        "!mkdir /content/drive/MyDrive/ml2/weapon_detection/val\n",
        "!mkdir /content/drive/MyDrive/ml2/weapon_detection/val/labels\n",
        "\n",
        "!mkdir /content/drive/MyDrive/ml2/weapon_detection/train\n",
        "!mkdir /content/drive/MyDrive/ml2/weapon_detection/train/labels"
      ],
      "metadata": {
        "colab": {
          "base_uri": "https://localhost:8080/"
        },
        "id": "yPuZJ4w5iu3Y",
        "outputId": "58b47842-632e-43ee-a9fa-7c833c32f559"
      },
      "execution_count": 73,
      "outputs": [
        {
          "output_type": "stream",
          "name": "stdout",
          "text": [
            "/root\n",
            "mkdir: cannot create directory ‘/content/drive/MyDrive/ml2/weapon_detection/val’: File exists\n",
            "mkdir: cannot create directory ‘/content/drive/MyDrive/ml2/weapon_detection/val/labels’: File exists\n",
            "mkdir: cannot create directory ‘/content/drive/MyDrive/ml2/weapon_detection/train’: File exists\n",
            "mkdir: cannot create directory ‘/content/drive/MyDrive/ml2/weapon_detection/train/labels’: File exists\n"
          ]
        }
      ]
    },
    {
      "cell_type": "code",
      "source": [
        "labelsTrain = \"/content/drive/MyDrive/ml2/weapon_detection/train/labels\"\n",
        "labelsVal = \"/content/drive/MyDrive/ml2/weapon_detection/val/labels\"\n",
        "\n",
        "# Remove files from labelsTrain directory\n",
        "for fl in sorted(os.listdir(labelsTrain)):\n",
        "    os.remove(os.path.join(labelsTrain, fl))\n",
        "\n",
        "# Remove files from labelsVal directory\n",
        "for fl in sorted(os.listdir(labelsVal)):\n",
        "    os.remove(os.path.join(labelsVal, fl))\n"
      ],
      "metadata": {
        "id": "Jxz8gcjXjOAh"
      },
      "execution_count": 77,
      "outputs": []
    },
    {
      "cell_type": "code",
      "source": [
        "x = {'Automatic Rifle': 0, 'Bazooka': 1, 'Grenade Launcher': 2, 'Handgun': 3, 'Knife': 4, 'Shotgun': 5, 'SMG': 6, 'Sniper': 7, 'Sword': 8}"
      ],
      "metadata": {
        "id": "4yZ5nW3VjhsT"
      },
      "execution_count": 78,
      "outputs": []
    },
    {
      "cell_type": "code",
      "source": [
        "for dirname, _, filenames in os.walk('/content/drive/MyDrive/ml2/weapon_detection/val/labels'):\n",
        "    for filename in filenames:\n",
        "        f = open(dirname+filename,\"r\")\n",
        "        w = open(\"/content/drive/MyDrive/ml2/weapon_detection/val/labels\"+filename,\"w\")\n",
        "        a = f.read()\n",
        "        for i in a.split(\"\\n\")[:-1]:\n",
        "            i = i.split(\" \")\n",
        "            for j in x:\n",
        "                if filename.startswith(j):\n",
        "                    i[0] = str(x[j])\n",
        "            w.write(\" \".join(i))\n",
        "            w.write(\"\\n\")\n",
        "\n",
        "for dirname, _, filenames in os.walk('/content/drive/MyDrive/ml2/weapon_detection/train/labels'):\n",
        "    for filename in filenames:\n",
        "        f = open(dirname+filename,\"r\")\n",
        "        w = open(\"/content/drive/MyDrive/ml2/weapon_detection/train/labels\"+filename,\"w\")\n",
        "        a = f.read()\n",
        "        for i in a.split(\"\\n\")[:-1]:\n",
        "            i = i.split(\" \")\n",
        "            for j in x:\n",
        "                if filename.startswith(j):\n",
        "                    i[0] = str(x[j])\n",
        "            w.write(\" \".join(i))\n",
        "            w.write(\"\\n\")"
      ],
      "metadata": {
        "id": "wn-LZ6_1m1B3"
      },
      "execution_count": 79,
      "outputs": []
    },
    {
      "cell_type": "code",
      "source": [],
      "metadata": {
        "id": "W-c27cgPnS6z"
      },
      "execution_count": null,
      "outputs": []
    }
  ]
}